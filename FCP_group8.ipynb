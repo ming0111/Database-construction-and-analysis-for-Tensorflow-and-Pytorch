{
 "cells": [
  {
   "cell_type": "code",
   "execution_count": 1,
   "metadata": {},
   "outputs": [],
   "source": [
    "# import libraries, Classes & Dicts\n",
    "import pandas as pd\n",
    "import psycopg2\n",
    "from ClassesAndDicts import * # please run ClassesAndDicts.py first"
   ]
  },
  {
   "cell_type": "code",
   "execution_count": 9,
   "metadata": {},
   "outputs": [
    {
     "name": "stdout",
     "output_type": "stream",
     "text": [
      "Warning! database \"git\" already exists\n",
      "\n"
     ]
    }
   ],
   "source": [
    "# create and connect to the database git\n",
    "try:\n",
    "    connection = psycopg2.connect(\n",
    "        dbname = \"postgres\",\n",
    "        user = \"postgres\",\n",
    "        password = \"0324\",\n",
    "        host = \"localhost\",\n",
    "        port = \"4321\" # note my port is 4321, please change if yours is 5432\n",
    "    )\n",
    "    connection.autocommit = True\n",
    "    \n",
    "    cursor = connection.cursor()\n",
    "    \n",
    "    cursor.execute(\"CREATE DATABASE git;\")\n",
    "    print(cursor.statusmessage)    \n",
    "except psycopg2.Error as error:\n",
    "    print(\"Warning!\", error)\n",
    "finally:\n",
    "    if connection is not None:\n",
    "        cursor.close()\n",
    "        connection.close()"
   ]
  },
  {
   "cell_type": "markdown",
   "metadata": {},
   "source": [
    "## gitIssues"
   ]
  },
  {
   "cell_type": "code",
   "execution_count": 29,
   "metadata": {},
   "outputs": [],
   "source": [
    "# Read data gitIssues.csv\n",
    "gitIssues_df = pd.read_csv('C:\\\\Users\\\\Dell\\\\Desktop\\\\DMS\\\\gitIssues.csv',sep=',').iloc[:, 1:]"
   ]
  },
  {
   "cell_type": "code",
   "execution_count": 30,
   "metadata": {},
   "outputs": [
    {
     "name": "stdout",
     "output_type": "stream",
     "text": [
      "DROP SCHEMA \n",
      "\n",
      "CREATE SCHEMA \n",
      "\n",
      "CREATE TABLE \n",
      "\n",
      "CREATE TABLE \n",
      "\n",
      "CREATE TABLE \n",
      "\n",
      "CREATE TABLE \n",
      "\n"
     ]
    }
   ],
   "source": [
    "# create gitIssues schema and tables\n",
    "try:\n",
    "    connection = psycopg2.connect(\n",
    "        **connection_params\n",
    "    )\n",
    "    \n",
    "    cursor = connection.cursor()\n",
    "    \n",
    "    # Create gitIssues schema\n",
    "    schema = Schema(\"gitIssues\")\n",
    "    schema.drop_schema_cascade(cursor)\n",
    "    schema.create_schema(cursor)\n",
    "    \n",
    "    # create and insert issues tables\n",
    "    tables = {}\n",
    "    tablenames = \"issues\", \"users\", \"comments\", \"comment_user\"\n",
    "    for tablename in tablenames:\n",
    "        tables[tablename] = schema.new_table(gitIssues_df, *git_issues_data_dict[tablename], tablename)\n",
    "    \n",
    "    tables[\"users\"].rename_fields(\"user_id,user_name\")\n",
    "    for name, table in tables.items():\n",
    "        table.create_table(cursor)\n",
    "        table.insert_into(cursor)\n",
    "    connection.commit()\n",
    "except psycopg2.Error as error:\n",
    "    print(\"Warning!\", error)\n",
    "finally:\n",
    "    if connection is not None:\n",
    "        cursor.close()\n",
    "        connection.close()"
   ]
  },
  {
   "cell_type": "code",
   "execution_count": 31,
   "metadata": {},
   "outputs": [
    {
     "name": "stdout",
     "output_type": "stream",
     "text": [
      "SELECT 4242 \n",
      "\n",
      "DROP TABLE \n",
      "\n",
      "DROP TABLE \n",
      "\n",
      "DROP TABLE \n",
      "\n"
     ]
    }
   ],
   "source": [
    "# Create 3 new tables(users_ issues_ comment_user_) based on the current 3 tables (users issues comment_user)\n",
    "# Then DROP the current 3 tables (users issues comment_user)\n",
    "# THis section is for delete duplicated rows\n",
    "try:\n",
    "    connection = psycopg2.connect(\n",
    "        **connection_params\n",
    "    )\n",
    "    \n",
    "    cursor = connection.cursor()\n",
    "    \n",
    "    cursor.execute(\"\"\"\n",
    "    CREATE TABLE gitIssues.issues_ as select distinct * from gitIssues.issues;\n",
    "    CREATE TABLE gitIssues.users_ as select user_name, user_id, count(*) as user_count from gitIssues.users group by user_name, user_id;\n",
    "    CREATE TABLE gitIssues.comment_user_ as select distinct * from gitIssues.comment_user;\n",
    "    \"\"\")\n",
    "    print(cursor.statusmessage, '\\n')\n",
    "    tables[\"issues\"].drop_table_cascade(cursor)\n",
    "    tables[\"users\"].drop_table_cascade(cursor)\n",
    "    tables[\"comment_user\"].drop_table_cascade(cursor)\n",
    "    connection.commit()\n",
    "except psycopg2.Error as error:\n",
    "    print(\"Warning!\", error)\n",
    "finally:\n",
    "    if connection is not None:\n",
    "        cursor.close()\n",
    "        connection.close()"
   ]
  },
  {
   "cell_type": "code",
   "execution_count": 32,
   "metadata": {},
   "outputs": [
    {
     "name": "stdout",
     "output_type": "stream",
     "text": [
      "ALTER TABLE \n",
      "\n"
     ]
    }
   ],
   "source": [
    "# add constraints (primary_key, foreign_key )\n",
    "try:\n",
    "    connection = psycopg2.connect(**connection_params)\n",
    "    cursor = connection.cursor()\n",
    "    cursor.execute(\"\"\" \n",
    "    \n",
    "       ALTER TABLE gitIssues.issues_ ADD PRIMARY KEY (title,created_at); --For table issues_ , title & created_at are the composite primary key\n",
    "       ALTER TABLE gitIssues.comments ADD PRIMARY KEY (comment_id);\n",
    "       ALTER TABLE gitIssues.users_ ADD PRIMARY KEY (user_id);\n",
    "       ALTER TABLE gitIssues.comment_user_ ADD PRIMARY KEY (comment_user_id);\n",
    "\n",
    "    -- link issues_ with users_ by foreign key user_id \n",
    "       ALTER TABLE gitIssues.issues_ ADD CONSTRAINT issues_fk1 FOREIGN KEY(user_id) REFERENCES gitIssues.users_(user_id);\n",
    "    -- link comments with users_ by foreign key user_id \n",
    "       ALTER TABLE gitIssues.comments ADD CONSTRAINT comments_fk1 FOREIGN KEY(user_id) REFERENCES gitIssues.users_(user_id);\n",
    "    -- link comments with issues_ by foreign key (title,created_at)\n",
    "       ALTER TABLE gitIssues.comments ADD CONSTRAINT comments_fk2 FOREIGN KEY(title,created_at) REFERENCES gitIssues.issues_(title,created_at);\n",
    "    -- link comments with comment_user_ by foreign key comment_user_id\n",
    "       ALTER TABLE gitIssues.comments ADD CONSTRAINT comments_fk3 FOREIGN KEY(comment_user_id) REFERENCES gitIssues.comment_user_(comment_user_id);\n",
    "    \n",
    "    \"\"\")\n",
    "    print(cursor.statusmessage, '\\n')\n",
    "    connection.commit()\n",
    "except psycopg2.Error as error:\n",
    "    print(\"Warning!\", error)\n",
    "finally:\n",
    "    if connection is not None:\n",
    "        cursor.close()\n",
    "        connection.close()"
   ]
  },
  {
   "cell_type": "markdown",
   "metadata": {},
   "source": [
    "## gitData"
   ]
  },
  {
   "cell_type": "code",
   "execution_count": 18,
   "metadata": {},
   "outputs": [],
   "source": [
    "# Read data gitData.csv\n",
    "gitData_df = pd.read_csv('C:\\\\Users\\\\Dell\\\\Desktop\\\\DMS\\\\gitData.csv',sep=',').iloc[:, 1:]"
   ]
  },
  {
   "cell_type": "code",
   "execution_count": 20,
   "metadata": {},
   "outputs": [
    {
     "name": "stdout",
     "output_type": "stream",
     "text": [
      "CREATE SCHEMA \n",
      "\n",
      "CREATE TABLE \n",
      "\n",
      "CREATE TABLE \n",
      "\n"
     ]
    }
   ],
   "source": [
    "# create gitData schema and tables\n",
    "try:\n",
    "    connection = psycopg2.connect(\n",
    "        **connection_params\n",
    "    )\n",
    "    \n",
    "    cursor = connection.cursor()\n",
    "    \n",
    "    # Create gitData schema\n",
    "    schema = Schema(\"gitData\")\n",
    "    schema.create_schema(cursor)\n",
    "    \n",
    "    # create and insert gitData tables\n",
    "    tables = {}\n",
    "    tablenames = \"commits\", \"files\"\n",
    "    for tablename in tablenames:\n",
    "        tables[tablename] = schema.new_table(gitData_df, *git_data_data_dict[tablename], tablename)\n",
    "    \n",
    "    for name, table in tables.items():\n",
    "        table.create_table(cursor)\n",
    "        table.insert_into(cursor)\n",
    "    connection.commit()\n",
    "except psycopg2.Error as error:\n",
    "    print(\"Warning!\", error)\n",
    "finally:\n",
    "    if connection is not None:\n",
    "        cursor.close()\n",
    "        connection.close()"
   ]
  },
  {
   "cell_type": "code",
   "execution_count": 25,
   "metadata": {},
   "outputs": [
    {
     "name": "stdout",
     "output_type": "stream",
     "text": [
      "SELECT 28578 \n",
      "\n",
      "DROP TABLE \n",
      "\n"
     ]
    }
   ],
   "source": [
    "# Create 2 new tables( commits_ , files_ ) based on the current table ( commits files)\n",
    "# Then DROP the current 2 tables ( commits files )\n",
    "# THis section is for delete duplicated rows\n",
    "# Also create a new table named author (with commits_count and first_author_date)\n",
    "try:\n",
    "    connection = psycopg2.connect(\n",
    "        **connection_params\n",
    "    )\n",
    "    \n",
    "    cursor = connection.cursor()\n",
    "    \n",
    "    cursor.execute(\"\"\"\n",
    "    CREATE TABLE gitData.commits_ as select distinct * from gitData.commits;\n",
    "    CREATE TABLE gitData.files_ as select distinct * from gitData.files where nloc!='NaN';\n",
    "\n",
    "    CREATE TABLE gitData.author as \n",
    "    (select author_name, project_name, count(*) as commits_count, min(author_date) as first_author_date \n",
    "    from gitData.commits_ group by author_name,project_name order by count(*) desc);\n",
    "\n",
    "    \"\"\")\n",
    "    print(cursor.statusmessage, '\\n')\n",
    "    tables[\"commits\"].drop_table_cascade(cursor)\n",
    "    tables[\"files\"].drop_table_cascade(cursor)\n",
    "    connection.commit()\n",
    "except psycopg2.Error as error:\n",
    "    print(\"Warning!\", error)\n",
    "finally:\n",
    "    if connection is not None:\n",
    "        cursor.close()\n",
    "        connection.close()"
   ]
  },
  {
   "cell_type": "code",
   "execution_count": 28,
   "metadata": {},
   "outputs": [
    {
     "name": "stdout",
     "output_type": "stream",
     "text": [
      "ALTER TABLE \n",
      "\n"
     ]
    }
   ],
   "source": [
    "# add constraints (primary_key, foreign_key )\n",
    "try:\n",
    "    connection = psycopg2.connect(**connection_params)\n",
    "    cursor = connection.cursor()\n",
    "    cursor.execute(\"\"\" \n",
    "       ALTER TABLE gitData.commits_ ADD PRIMARY KEY (hash);      \n",
    "       ALTER TABLE gitData.files_ ADD PRIMARY KEY (hash,old_path,new_path); --For table files_, hash-old_path-new_path are the composite primary key\n",
    "       ALTER TABLE gitData.author ADD PRIMARY KEY (author_name,project_name);\n",
    "\n",
    "    -- link commits_ with author by foreign key (author_name,project_name)\n",
    "       ALTER TABLE gitData.commits_ ADD CONSTRAINT commits_fk1 FOREIGN KEY(author_name,project_name) REFERENCES gitData.author(author_name,project_name);\n",
    "    -- link files_ with commits_ by foreign key hash\n",
    "       ALTER TABLE gitData.files_ ADD CONSTRAINT files_fk1 FOREIGN KEY(hash) REFERENCES gitData.commits_(hash);\n",
    "    \n",
    "    \"\"\")\n",
    "    print(cursor.statusmessage, '\\n')\n",
    "    connection.commit()\n",
    "except psycopg2.Error as error:\n",
    "    print(\"Warning!\", error)\n",
    "finally:\n",
    "    if connection is not None:\n",
    "        cursor.close()\n",
    "        connection.close()"
   ]
  }
 ],
 "metadata": {
  "kernelspec": {
   "display_name": "Python 3.10.5 64-bit (windows store)",
   "language": "python",
   "name": "python3"
  },
  "language_info": {
   "codemirror_mode": {
    "name": "ipython",
    "version": 3
   },
   "file_extension": ".py",
   "mimetype": "text/x-python",
   "name": "python",
   "nbconvert_exporter": "python",
   "pygments_lexer": "ipython3",
   "version": "3.10.5"
  },
  "orig_nbformat": 4,
  "vscode": {
   "interpreter": {
    "hash": "9e35676d33e03a9093a17dc7760f2b2aa4960ff6d3c0d7dc06348afdc0ca22c8"
   }
  }
 },
 "nbformat": 4,
 "nbformat_minor": 2
}
